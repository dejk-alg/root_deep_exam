{
 "cells": [
  {
   "cell_type": "markdown",
   "metadata": {
    "colab_type": "text",
    "id": "Yc7D4wiHp9oJ"
   },
   "source": [
    "# BEST 2019 Final examination\n",
    "\n",
    "![](https://github.com/glouppe/info8010-deep-learning/blob/master/tutorials/images/style_transfer.png?raw=1)\n",
    "\n",
    "## Neural Style Transfer\n",
    "\n",
    "The goal of your project is to reimplement the algorithm proposed in: [A Neural Algorithm of Artistic Style](https://arxiv.org/pdf/1508.06576.pdf)\n",
    "\n",
    "We expect you to come up with a working implementation of the original algorithm that is based on the following steps.\n",
    "\n",
    "This will correspond to your **minimum viable product!**.\n",
    "\n",
    "- Given any natural and stylized images, the goal is to produce a new image which keeps the content of the first one and applies the style of the latter.\n",
    "\n",
    "- We expect you to work with a pretrained neural network (e.g. VGG16, ResNet...) which will serve as a feature extractor: to do so you will have to come up with your own forward() function.\n",
    "\n",
    "- You will have to reimplement the different losses presented in the paper.\n",
    "\n",
    "- Produce at least one good-looking sample for the content image you were given.\n",
    "\n",
    "**BONUS:**\n",
    "\n",
    "- Play with the different layers used for extracting the features.\n",
    "\n",
    "- Investigate how to balance the preservation of the content with respect to the transferred style.\n",
    "\n",
    "- Come up with a way that extends the algorithm to the use of multiple styles.\n",
    "\n",
    "- Investigate the differences between starting with a pretrained network and one which is randomly initialized.\n",
    "\n"
   ]
  },
  {
   "cell_type": "markdown",
   "metadata": {
    "colab_type": "text",
    "id": "NTPBR-Qip9oK"
   },
   "source": [
    "## Non-exhaustive summary of [A Neural Algorithm of Artistic Style](https://arxiv.org/pdf/1508.06576.pdf)"
   ]
  },
  {
   "cell_type": "markdown",
   "metadata": {
    "colab_type": "text",
    "id": "iomFweQgp9oL"
   },
   "source": [
    "The authors propose to cast the style transfer problem as an optimization procedure over the pixels of the target image. To do so they define a double loss composed of a content loss and style loss:\n",
    "\n",
    "- The content loss is mathematically defined as the mean squared error (MSE) between the two feature maps (target and content images) over the layers. \n",
    "- The style loss can be computed with the MSE between the gram matrices of the vectorized feature maps (one vector per channel). \n",
    "\n",
    "The two losses are then combined and minimized with gradient descent."
   ]
  },
  {
   "cell_type": "code",
   "execution_count": 1,
   "metadata": {
    "colab": {},
    "colab_type": "code",
    "id": "zNQrNS1op9oL"
   },
   "outputs": [],
   "source": [
    "from torchvision import models\n",
    "from torchvision import transforms\n",
    "from PIL import Image\n",
    "import argparse\n",
    "import torch\n",
    "import torchvision\n",
    "import torch.nn as nn\n",
    "import numpy as np\n",
    "from types import SimpleNamespace"
   ]
  },
  {
   "cell_type": "markdown",
   "metadata": {
    "colab_type": "text",
    "id": "RYsEV2Dgp9oO"
   },
   "source": [
    "### Experimental Setting"
   ]
  },
  {
   "cell_type": "code",
   "execution_count": 2,
   "metadata": {
    "colab": {},
    "colab_type": "code",
    "id": "EA_zQnoDp9oO"
   },
   "outputs": [],
   "source": [
    "config = SimpleNamespace()\n",
    "config.content = 'content_image.jpg'\n",
    "config.style = 'style_image.jpg'\n",
    "config.max_size = 400\n",
    "config.total_step = 2000\n",
    "config.log_step = 1#10\n",
    "config.sample_step = 10\n",
    "config.style_weight = 100\n",
    "config.lr = .003"
   ]
  },
  {
   "cell_type": "code",
   "execution_count": 3,
   "metadata": {
    "colab": {},
    "colab_type": "code",
    "id": "_uJ_7Zccp9oQ"
   },
   "outputs": [],
   "source": [
    "# Device configuration\n",
    "device = torch.device('cuda' if torch.cuda.is_available() else 'cpu')"
   ]
  },
  {
   "cell_type": "code",
   "execution_count": 4,
   "metadata": {},
   "outputs": [
    {
     "data": {
      "text/plain": [
       "device(type='cpu')"
      ]
     },
     "execution_count": 4,
     "metadata": {},
     "output_type": "execute_result"
    }
   ],
   "source": [
    "device"
   ]
  },
  {
   "cell_type": "markdown",
   "metadata": {
    "colab_type": "text",
    "id": "e8IJQZp3p9oS"
   },
   "source": [
    "### Architecture"
   ]
  },
  {
   "cell_type": "markdown",
   "metadata": {
    "colab_type": "text",
    "id": "kD3btwhGp9oT"
   },
   "source": [
    "Define your favourite neural network which will serve as [features extractor](https://pytorch.org/docs/stable/torchvision/models.html).\n",
    "\n",
    "Redefine your forward pass for computing the features from the network.\n"
   ]
  },
  {
   "cell_type": "code",
   "execution_count": 4,
   "metadata": {
    "colab": {},
    "colab_type": "code",
    "id": "hSzTGqA0p9oT"
   },
   "outputs": [],
   "source": [
    "class PretrainedNet(nn.Module):\n",
    "    def __init__(self):\n",
    "        \"\"\"Select conv1_1 ~ conv5_1 activation maps.\"\"\"\n",
    "        super(PretrainedNet, self).__init__()\n",
    "        \n",
    "        self.select = [5, 10, 17, 21, 28] #set of selected feature maps\n",
    "        self.select = [str(el) for el in self.select]\n",
    "        self.pretrainedNet = models.vgg16(pretrained=True).features\n",
    "        \n",
    "    def forward(self, x):\n",
    "        \"\"\"Extract multiple (5 is good) convolutional feature maps.\"\"\"\n",
    "        features = []\n",
    "        \n",
    "        for name, layer in self.pretrainedNet._modules.items():\n",
    "            #print(name, layer)\n",
    "            x = layer(x)\n",
    "            if name in self.select:\n",
    "                features.append(x)\n",
    "        return features"
   ]
  },
  {
   "cell_type": "markdown",
   "metadata": {
    "colab_type": "text",
    "id": "Cc3y0keEp9oV"
   },
   "source": [
    "### Image loader"
   ]
  },
  {
   "cell_type": "code",
   "execution_count": 5,
   "metadata": {
    "colab": {},
    "colab_type": "code",
    "id": "s_-dMIMxp9oV"
   },
   "outputs": [],
   "source": [
    "def load_image(image_path, transform=None, max_size=None, shape=None):\n",
    "    \"\"\"Load an image and convert it to a torch tensor.\"\"\"\n",
    "    image = Image.open(image_path)\n",
    "    \n",
    "    if max_size:\n",
    "        scale = max_size / max(image.size)\n",
    "        size = np.array(image.size) * scale\n",
    "        image = image.resize(size.astype(int), Image.ANTIALIAS)\n",
    "    \n",
    "    if shape:\n",
    "        image = image.resize(shape, Image.LANCZOS)\n",
    "    \n",
    "    if transform:\n",
    "        image = transform(image).unsqueeze(0)\n",
    "    \n",
    "    return image.to(device)"
   ]
  },
  {
   "cell_type": "markdown",
   "metadata": {
    "colab_type": "text",
    "id": "bPOOd5_Op9oX"
   },
   "source": [
    "The pytorchvision pretrained models are trained on ImageNet where images are normalized by `mean=[0.485, 0.456, 0.406]` and `std=[0.229, 0.224, 0.225]`. We use the same normalization statistics here."
   ]
  },
  {
   "cell_type": "code",
   "execution_count": 6,
   "metadata": {
    "colab": {},
    "colab_type": "code",
    "id": "WS-SjxIpp9oY"
   },
   "outputs": [],
   "source": [
    "transform = transforms.Compose([transforms.ToTensor(), transforms.Normalize(mean=(0.485, 0.456, 0.406), \n",
    "                                                                            std=(0.229, 0.224, 0.225))])"
   ]
  },
  {
   "cell_type": "markdown",
   "metadata": {
    "colab_type": "text",
    "id": "TYeCY_sVp9oZ"
   },
   "source": [
    "Load content and style images.\n",
    "Make the style image same size as the content image.\n"
   ]
  },
  {
   "cell_type": "code",
   "execution_count": 7,
   "metadata": {
    "colab": {
     "base_uri": "https://localhost:8080/",
     "height": 421
    },
    "colab_type": "code",
    "id": "tB-rPtzwp9oa",
    "outputId": "c2635ef5-a66d-4d5c-ef4c-fdbdf6bd19d2"
   },
   "outputs": [],
   "source": [
    "content = load_image(config.content, transform, max_size=config.max_size)\n",
    "style = load_image(config.style, transform, shape=[content.size(2), content.size(3)])"
   ]
  },
  {
   "cell_type": "markdown",
   "metadata": {
    "colab_type": "text",
    "id": "tgaDDU0Cp9od"
   },
   "source": [
    "### Optimization"
   ]
  },
  {
   "cell_type": "markdown",
   "metadata": {
    "colab_type": "text",
    "id": "yg7M4pkmp9od"
   },
   "source": [
    "Initialize a target image with the content image"
   ]
  },
  {
   "cell_type": "code",
   "execution_count": 8,
   "metadata": {
    "colab": {},
    "colab_type": "code",
    "id": "VePWX0Z4p9oj"
   },
   "outputs": [],
   "source": [
    "net = PretrainedNet().to(device).eval()# Initialize your pretrained neural net and don't forget to put it in evaluation mode."
   ]
  },
  {
   "cell_type": "code",
   "execution_count": 9,
   "metadata": {
    "colab": {
     "base_uri": "https://localhost:8080/",
     "height": 162
    },
    "colab_type": "code",
    "id": "WLQGhKZop9oe",
    "outputId": "6576ae17-abbb-4fa5-c68f-0a1308c6276c"
   },
   "outputs": [],
   "source": [
    "target = content.clone().requires_grad_(True)"
   ]
  },
  {
   "cell_type": "code",
   "execution_count": 10,
   "metadata": {
    "colab": {},
    "colab_type": "code",
    "id": "dw1xBTBRp9og"
   },
   "outputs": [],
   "source": [
    "optimizer = torch.optim.Adam([target], lr=config.lr)"
   ]
  },
  {
   "cell_type": "markdown",
   "metadata": {
    "colab_type": "text",
    "id": "BdC3Yfvcp9ol"
   },
   "source": [
    "The main training loop of the algorithm: we separately deal with the content and style losses (be careful to vectorize your feature maps and follow the formulas presented in the paper)."
   ]
  },
  {
   "cell_type": "code",
   "execution_count": 11,
   "metadata": {},
   "outputs": [],
   "source": [
    "old_target = target.clone().squeeze()\n",
    "old_style = style.clone().squeeze()"
   ]
  },
  {
   "cell_type": "code",
   "execution_count": null,
   "metadata": {
    "colab": {},
    "colab_type": "code",
    "id": "wcHST3Mvp9om"
   },
   "outputs": [
    {
     "name": "stdout",
     "output_type": "stream",
     "text": [
      "Step [1/2000], Content Loss: 0.0000, Style Loss: 6.3722\n",
      "Step [2/2000], Content Loss: 0.1678, Style Loss: 6.1999\n",
      "Step [3/2000], Content Loss: 0.5983, Style Loss: 6.0252\n",
      "Step [4/2000], Content Loss: 1.2125, Style Loss: 5.8433\n",
      "Step [5/2000], Content Loss: 1.9695, Style Loss: 5.6548\n",
      "Step [6/2000], Content Loss: 2.8134, Style Loss: 5.4685\n",
      "Step [7/2000], Content Loss: 3.6911, Style Loss: 5.2897\n",
      "Step [8/2000], Content Loss: 4.5307, Style Loss: 5.1209\n",
      "Step [9/2000], Content Loss: 5.2898, Style Loss: 4.9613\n",
      "Step [10/2000], Content Loss: 5.9721, Style Loss: 4.8099\n",
      "Step [11/2000], Content Loss: 6.6064, Style Loss: 4.6650\n",
      "Step [12/2000], Content Loss: 7.2124, Style Loss: 4.5262\n",
      "Step [13/2000], Content Loss: 7.8019, Style Loss: 4.3932\n",
      "Step [14/2000], Content Loss: 8.3796, Style Loss: 4.2655\n",
      "Step [15/2000], Content Loss: 8.9441, Style Loss: 4.1424\n",
      "Step [16/2000], Content Loss: 9.4919, Style Loss: 4.0236\n",
      "Step [17/2000], Content Loss: 10.0251, Style Loss: 3.9091\n",
      "Step [18/2000], Content Loss: 10.5412, Style Loss: 3.7989\n",
      "Step [19/2000], Content Loss: 11.0385, Style Loss: 3.6929\n",
      "Step [20/2000], Content Loss: 11.5167, Style Loss: 3.5910\n",
      "Step [21/2000], Content Loss: 11.9766, Style Loss: 3.4930\n"
     ]
    }
   ],
   "source": [
    "for step in range(config.total_step):\n",
    "    # Extract multiple(5) feature maps\n",
    "        \n",
    "    target_features = net(target)\n",
    "    content_features = net(content)\n",
    "    style_features = net(style)\n",
    "\n",
    "    style_loss = 0\n",
    "    content_loss = 0\n",
    "    \n",
    "    for f1, f2, f3 in zip(target_features, content_features, style_features):\n",
    "        # Compute content loss with target and content images\n",
    "        content_loss += torch.mean((f1 - f2) ** 2)\n",
    "        \n",
    "        _, c, h, w = f1.shape \n",
    "        f1 = f1.view(c, h * w)\n",
    "        f3 = f3.view(c, h * w)\n",
    "\n",
    "        # Compute gram matrix\n",
    "\n",
    "        target_gram = torch.mm(f1, f1.t())\n",
    "        style_gram = torch.mm(f3, f3.t())\n",
    "                \n",
    "        style_loss += torch.sum((target_gram - style_gram) ** 2) / (4 * (c * h * w) ** 2)\n",
    "        #style_loss += torch.mean(torch.pow(target_gram - style_gram, 2)) / (4 * (c * h * w) ** 2)\n",
    "        \n",
    "    # Compute total loss, backprop and optimize (4 lines of code in total)\n",
    "    loss = content_loss + config.style_weight * style_loss\n",
    "    \n",
    "    optimizer.zero_grad()\n",
    "    loss.backward()\n",
    "    optimizer.step()\n",
    "\n",
    "    # Output\n",
    "    if (step+1) % config.log_step == 0:\n",
    "        # Change this print into a log with tensorboardx\n",
    "        print ('Step [{}/{}], Content Loss: {:.4f}, Style Loss: {:.4f}' \n",
    "               .format(step+1, config.total_step, content_loss.item(), style_loss.item()))\n",
    "\n",
    "    if (step+1) % config.sample_step == 0:\n",
    "        # Save the generated image (you can also change it to see it with tensorboardx)\n",
    "        denorm = transforms.Normalize((-2.12, -2.04, -1.80), (4.37, 4.46, 4.44))\n",
    "        img = target.clone().squeeze()\n",
    "        img = denorm(img).clamp_(0, 1)\n",
    "        torchvision.utils.save_image(img, 'output-{}.png'.format(step+1))"
   ]
  },
  {
   "cell_type": "markdown",
   "metadata": {
    "colab_type": "text",
    "id": "90iG1jzTp9on"
   },
   "source": [
    "## Bonus"
   ]
  },
  {
   "cell_type": "markdown",
   "metadata": {
    "colab_type": "text",
    "id": "jp9f8Nqep9on"
   },
   "source": [
    "<div class=\"alert alert-danger\">\n",
    "<b>EXERCISE</b>:\n",
    "\n",
    "\n",
    "Play with the different layers used for extracting the features.\n",
    "\n",
    "\n",
    "</div>"
   ]
  },
  {
   "cell_type": "code",
   "execution_count": null,
   "metadata": {
    "colab": {},
    "colab_type": "code",
    "id": "IxJ1xNwqp9oo"
   },
   "outputs": [],
   "source": []
  },
  {
   "cell_type": "markdown",
   "metadata": {
    "colab_type": "text",
    "id": "Gl5rwr_7p9op"
   },
   "source": [
    "<div class=\"alert alert-danger\">\n",
    "<b>EXERCISE</b>:\n",
    "    \n",
    "Investigate how to balance the preservation of the content with respect to the transferred style.\n",
    "\n",
    "\n",
    "</div>"
   ]
  },
  {
   "cell_type": "code",
   "execution_count": null,
   "metadata": {
    "colab": {},
    "colab_type": "code",
    "id": "oT187G2Tp9oq"
   },
   "outputs": [],
   "source": []
  },
  {
   "cell_type": "markdown",
   "metadata": {
    "colab_type": "text",
    "id": "zbnFIj-bp9or"
   },
   "source": [
    "<div class=\"alert alert-danger\">\n",
    "<b>EXERCISE</b>:\n",
    "\n",
    "Come up with a way that extends the algorithm to the use of multiple styles.\n",
    "\n",
    "</div>"
   ]
  },
  {
   "cell_type": "code",
   "execution_count": null,
   "metadata": {
    "colab": {},
    "colab_type": "code",
    "id": "MGNRGFckp9os"
   },
   "outputs": [],
   "source": []
  },
  {
   "cell_type": "markdown",
   "metadata": {
    "colab_type": "text",
    "id": "5_e9h1hdp9ot"
   },
   "source": [
    "<div class=\"alert alert-danger\">\n",
    "<b>EXERCISE</b>:\n",
    "\n",
    " Investigate the differences between starting with a pretrained network and one which is randomly initialized.\n",
    "\n",
    "\n",
    "</div>"
   ]
  },
  {
   "cell_type": "code",
   "execution_count": null,
   "metadata": {
    "colab": {},
    "colab_type": "code",
    "id": "GT0tFVj1p9ou"
   },
   "outputs": [],
   "source": []
  }
 ],
 "metadata": {
  "colab": {
   "name": "best2019-final-examination.ipynb",
   "provenance": [],
   "version": "0.3.2"
  },
  "kernelspec": {
   "display_name": "Python 3",
   "language": "python",
   "name": "python3"
  },
  "language_info": {
   "codemirror_mode": {
    "name": "ipython",
    "version": 3
   },
   "file_extension": ".py",
   "mimetype": "text/x-python",
   "name": "python",
   "nbconvert_exporter": "python",
   "pygments_lexer": "ipython3",
   "version": "3.7.1"
  }
 },
 "nbformat": 4,
 "nbformat_minor": 1
}
